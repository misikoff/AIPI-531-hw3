{
 "cells": [
  {
   "cell_type": "code",
   "execution_count": 36,
   "id": "f9946f07",
   "metadata": {},
   "outputs": [],
   "source": [
    "import pandas as pd\n",
    "import numpy as np"
   ]
  },
  {
   "cell_type": "code",
   "execution_count": 37,
   "id": "178deec6",
   "metadata": {},
   "outputs": [],
   "source": [
    "sorted_events = pd.read_csv('kaggle/data/sorted_events.csv')\n",
    "\n",
    "# Read and combine original csv\n",
    "item_prop1 = pd.read_csv('kaggle/data/item_properties_part1.csv')\n",
    "item_prop2 = pd.read_csv('kaggle/data/item_properties_part2.csv')\n",
    "item_prop = pd.concat([item_prop1, item_prop2], ignore_index=True)"
   ]
  },
  {
   "cell_type": "code",
   "execution_count": 38,
   "id": "41b0b1c1",
   "metadata": {},
   "outputs": [],
   "source": [
    "# drop timestamp\n",
    "item_prop = item_prop.drop(['timestamp'], axis=1).drop_duplicates()\n",
    "\n",
    "# identify list of relevant items\n",
    "item_list = sorted_events['item_id'].unique()\n",
    "item_list.sort()\n",
    "\n",
    "# filter property dataframe to only include relevant items\n",
    "item_prop = item_prop[item_prop[ 'itemid'].isin(item_list)].drop_duplicates()\n",
    "\n",
    "# professor instruction: drop unavailable items (see 11/09 lecture)\n",
    "item_prop = item_prop[~((item_prop['property'] == \"available\") &\n",
    "                        (item_prop['value'] == '0'))]\n",
    "\n",
    "# combination of property and value\n",
    "item_prop['prop_val'] = item_prop['property'].str.strip() + item_prop['value'].str.strip()"
   ]
  },
  {
   "cell_type": "code",
   "execution_count": 39,
   "id": "4487d9cb",
   "metadata": {},
   "outputs": [],
   "source": [
    "# select top 400 properties\n",
    "properties = item_prop['prop_val'].value_counts().head(400).index.tolist()\n",
    "\n",
    "# Initialize list\n",
    "item_prop_encoded = []\n",
    "\n",
    "# Go through each item\n",
    "for item in item_list.tolist():\n",
    "    item_set = set(item_prop[item_prop[\"itemid\"] == item]['prop_val'].unique())\n",
    "    new_row = [1 if prop in item_set else 0 for prop in properties]\n",
    "    item_prop_encoded.append(new_row)"
   ]
  },
  {
   "cell_type": "code",
   "execution_count": 40,
   "id": "d11de111",
   "metadata": {},
   "outputs": [],
   "source": [
    "# convert to df\n",
    "item_prop_encoded_df = pd.DataFrame(item_prop_encoded)\n",
    "\n",
    "# export to CSV\n",
    "item_prop_encoded_df.to_csv('kaggle/data/item_properties.csv', index=False)"
   ]
  }
 ],
 "metadata": {
  "kernelspec": {
   "display_name": "Python 3 (ipykernel)",
   "language": "python",
   "name": "python3"
  },
  "language_info": {
   "codemirror_mode": {
    "name": "ipython",
    "version": 3
   },
   "file_extension": ".py",
   "mimetype": "text/x-python",
   "name": "python",
   "nbconvert_exporter": "python",
   "pygments_lexer": "ipython3",
   "version": "3.9.13"
  }
 },
 "nbformat": 4,
 "nbformat_minor": 5
}
